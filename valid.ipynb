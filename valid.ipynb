{
  "nbformat": 4,
  "nbformat_minor": 0,
  "metadata": {
    "colab": {
      "name": "valid.ipynb",
      "provenance": [],
      "collapsed_sections": [],
      "toc_visible": true
    },
    "kernelspec": {
      "name": "python3",
      "display_name": "Python 3"
    },
    "language_info": {
      "name": "python"
    }
  },
  "cells": [
    {
      "cell_type": "markdown",
      "metadata": {
        "id": "O2vGM5HV4pQQ"
      },
      "source": [
        "## Colab才需要用"
      ]
    },
    {
      "cell_type": "code",
      "metadata": {
        "colab": {
          "base_uri": "https://localhost:8080/"
        },
        "id": "pGL0GsMCiwrv",
        "outputId": "c5ae7931-818d-45c2-d5f6-98aa359d8de6"
      },
      "source": [
        "!pip install pyspark"
      ],
      "execution_count": 1,
      "outputs": [
        {
          "output_type": "stream",
          "text": [
            "Collecting pyspark\n",
            "\u001b[?25l  Downloading https://files.pythonhosted.org/packages/45/b0/9d6860891ab14a39d4bddf80ba26ce51c2f9dc4805e5c6978ac0472c120a/pyspark-3.1.1.tar.gz (212.3MB)\n",
            "\u001b[K     |████████████████████████████████| 212.3MB 70kB/s \n",
            "\u001b[?25hCollecting py4j==0.10.9\n",
            "\u001b[?25l  Downloading https://files.pythonhosted.org/packages/9e/b6/6a4fb90cd235dc8e265a6a2067f2a2c99f0d91787f06aca4bcf7c23f3f80/py4j-0.10.9-py2.py3-none-any.whl (198kB)\n",
            "\u001b[K     |████████████████████████████████| 204kB 35.7MB/s \n",
            "\u001b[?25hBuilding wheels for collected packages: pyspark\n",
            "  Building wheel for pyspark (setup.py) ... \u001b[?25l\u001b[?25hdone\n",
            "  Created wheel for pyspark: filename=pyspark-3.1.1-py2.py3-none-any.whl size=212767604 sha256=2da7c08cf1e7b1a5e562fc9d21474be2933a95ca59fc2dd842d4521c1e4f84f4\n",
            "  Stored in directory: /root/.cache/pip/wheels/0b/90/c0/01de724414ef122bd05f056541fb6a0ecf47c7ca655f8b3c0f\n",
            "Successfully built pyspark\n",
            "Installing collected packages: py4j, pyspark\n",
            "Successfully installed py4j-0.10.9 pyspark-3.1.1\n"
          ],
          "name": "stdout"
        }
      ]
    },
    {
      "cell_type": "code",
      "metadata": {
        "id": "bo5KTtNzizKa"
      },
      "source": [
        "from pyspark.sql import SparkSession\n",
        "from pyspark import SparkContext\n",
        "spark = SparkSession.builder.master(\"local\").getOrCreate()\n",
        "sc = SparkContext.getOrCreate()"
      ],
      "execution_count": 2,
      "outputs": []
    },
    {
      "cell_type": "markdown",
      "metadata": {
        "id": "UfAYp_d-wV9t"
      },
      "source": [
        "# 建立資料"
      ]
    },
    {
      "cell_type": "code",
      "metadata": {
        "id": "FqQnSFIBizMk"
      },
      "source": [
        "import pandas as pd\n",
        "import numpy as np\n",
        "from datetime import datetime"
      ],
      "execution_count": 3,
      "outputs": []
    },
    {
      "cell_type": "markdown",
      "metadata": {
        "id": "qoM8oD3XwaqQ"
      },
      "source": [
        "## 建立起始標籤表\n",
        "- 客智科定期提供業務員標籤資料，寫入user區提供工程組使用\n",
        "- 分別建立1/1、1/7的表"
      ]
    },
    {
      "cell_type": "code",
      "metadata": {
        "id": "aJ4WPdiyizOp"
      },
      "source": [
        "TAG_ID = ['100','200','100','200','300']\n",
        "SAS_ID = ['A111','A111','B222','C333','D444']\n",
        "NUM = ['1','3','3','2','1']\n",
        "NUM_SCORE = []\n",
        "VALID_FROM_DTTM = []\n",
        "\n",
        "AG_TAG = {\n",
        "    \"TAG_ID\": TAG_ID,\n",
        "    \"SAS_ID\": SAS_ID,\n",
        "    \"NUM\":NUM,\n",
        "    \"NUM_SCORE\":np.nan,\n",
        "    \"VALID_FROM_DTTM\":datetime(2021, 1, 1)\n",
        "}\n",
        "\n",
        "ag_tag_20210101 = pd.DataFrame(AG_TAG)"
      ],
      "execution_count": 4,
      "outputs": []
    },
    {
      "cell_type": "code",
      "metadata": {
        "id": "9v-OJa-3izRK"
      },
      "source": [
        "TAG_ID = ['100','100','200','200','100','300']\n",
        "SAS_ID = ['A111','B222','B222','C333','D444','D444']\n",
        "NUM = ['1','3','3','2','1','3']\n",
        "NUM_SCORE = []\n",
        "VALID_FROM_DTTM = []\n",
        "\n",
        "AG_TAG = {\n",
        "    \"TAG_ID\": TAG_ID,\n",
        "    \"SAS_ID\": SAS_ID,\n",
        "    \"NUM\":NUM,\n",
        "    \"NUM_SCORE\":np.nan,\n",
        "    \"VALID_FROM_DTTM\":datetime(2021, 1, 7)\n",
        "}\n",
        "\n",
        "ag_tag_20210107 = pd.DataFrame(AG_TAG)"
      ],
      "execution_count": 5,
      "outputs": []
    },
    {
      "cell_type": "code",
      "metadata": {
        "id": "ciywYQ0sizTc",
        "colab": {
          "base_uri": "https://localhost:8080/"
        },
        "outputId": "93631b88-fdf9-4173-c3fb-4b8555b709a3"
      },
      "source": [
        "print(ag_tag_20210101)\n",
        "print(ag_tag_20210107)"
      ],
      "execution_count": 6,
      "outputs": [
        {
          "output_type": "stream",
          "text": [
            "  TAG_ID SAS_ID NUM  NUM_SCORE VALID_FROM_DTTM\n",
            "0    100   A111   1        NaN      2021-01-01\n",
            "1    200   A111   3        NaN      2021-01-01\n",
            "2    100   B222   3        NaN      2021-01-01\n",
            "3    200   C333   2        NaN      2021-01-01\n",
            "4    300   D444   1        NaN      2021-01-01\n",
            "  TAG_ID SAS_ID NUM  NUM_SCORE VALID_FROM_DTTM\n",
            "0    100   A111   1        NaN      2021-01-07\n",
            "1    100   B222   3        NaN      2021-01-07\n",
            "2    200   B222   3        NaN      2021-01-07\n",
            "3    200   C333   2        NaN      2021-01-07\n",
            "4    100   D444   1        NaN      2021-01-07\n",
            "5    300   D444   3        NaN      2021-01-07\n"
          ],
          "name": "stdout"
        }
      ]
    },
    {
      "cell_type": "code",
      "metadata": {
        "id": "RJ-ZNv1nizVu"
      },
      "source": [
        "ag_tag_20210101 = spark.createDataFrame(ag_tag_20210101)\n",
        "ag_tag_20210107 = spark.createDataFrame(ag_tag_20210107)"
      ],
      "execution_count": 7,
      "outputs": []
    },
    {
      "cell_type": "markdown",
      "metadata": {
        "id": "u4JKqhPdwyPh"
      },
      "source": [
        "## 比較兩張表\n",
        "- 刪除A111的200標籤\n",
        "- 新增B222的200標籤\n",
        "- 修改D444的300標籤\n",
        "- 新增D444的100標籤"
      ]
    },
    {
      "cell_type": "code",
      "metadata": {
        "id": "U6QCDEuBizYE",
        "colab": {
          "base_uri": "https://localhost:8080/"
        },
        "outputId": "5ce46916-9027-4a07-bc09-c1924cd94a4a"
      },
      "source": [
        "ag_tag_20210101.show()\n",
        "ag_tag_20210107.show()"
      ],
      "execution_count": 8,
      "outputs": [
        {
          "output_type": "stream",
          "text": [
            "+------+------+---+---------+-------------------+\n",
            "|TAG_ID|SAS_ID|NUM|NUM_SCORE|    VALID_FROM_DTTM|\n",
            "+------+------+---+---------+-------------------+\n",
            "|   100|  A111|  1|      NaN|2021-01-01 00:00:00|\n",
            "|   200|  A111|  3|      NaN|2021-01-01 00:00:00|\n",
            "|   100|  B222|  3|      NaN|2021-01-01 00:00:00|\n",
            "|   200|  C333|  2|      NaN|2021-01-01 00:00:00|\n",
            "|   300|  D444|  1|      NaN|2021-01-01 00:00:00|\n",
            "+------+------+---+---------+-------------------+\n",
            "\n",
            "+------+------+---+---------+-------------------+\n",
            "|TAG_ID|SAS_ID|NUM|NUM_SCORE|    VALID_FROM_DTTM|\n",
            "+------+------+---+---------+-------------------+\n",
            "|   100|  A111|  1|      NaN|2021-01-07 00:00:00|\n",
            "|   100|  B222|  3|      NaN|2021-01-07 00:00:00|\n",
            "|   200|  B222|  3|      NaN|2021-01-07 00:00:00|\n",
            "|   200|  C333|  2|      NaN|2021-01-07 00:00:00|\n",
            "|   100|  D444|  1|      NaN|2021-01-07 00:00:00|\n",
            "|   300|  D444|  3|      NaN|2021-01-07 00:00:00|\n",
            "+------+------+---+---------+-------------------+\n",
            "\n"
          ],
          "name": "stdout"
        }
      ]
    },
    {
      "cell_type": "markdown",
      "metadata": {
        "id": "Zbtj8Ty9xJsw"
      },
      "source": [
        "## 寫入Hive的user區"
      ]
    },
    {
      "cell_type": "code",
      "metadata": {
        "id": "NskqoKVNizaM"
      },
      "source": [
        "# ag_tag_20210101.write.mode('overwrite').saveAsTable(\"cxl_user_9h000.ag_tag_20210101\")\n",
        "# ag_tag_20210107.write.mode('overwrite').saveAsTable(\"cxl_user_9h000.ag_tag_20210107\")"
      ],
      "execution_count": 9,
      "outputs": []
    },
    {
      "cell_type": "markdown",
      "metadata": {
        "id": "Tugd1NiSTYN8"
      },
      "source": [
        "# Initial Load 第一次資料歷程製作"
      ]
    },
    {
      "cell_type": "code",
      "metadata": {
        "id": "rFLpVgijUANI"
      },
      "source": [
        "from pyspark.sql.types import StringType, TimestampType, DataType\n",
        "from pyspark.sql.functions import current_date, current_timestamp, to_timestamp, expr, to_date, col, lit"
      ],
      "execution_count": 10,
      "outputs": []
    },
    {
      "cell_type": "markdown",
      "metadata": {
        "id": "2W8K-Sr-Vj82"
      },
      "source": [
        "## 建立迄日\n",
        "- 所有資料壓上迄日9999-12-31\n",
        "- 排序資料檢查有無重複"
      ]
    },
    {
      "cell_type": "code",
      "metadata": {
        "id": "jSMNI1b4izci",
        "colab": {
          "base_uri": "https://localhost:8080/"
        },
        "outputId": "38187978-9a3f-4690-b5bf-d890221342bc"
      },
      "source": [
        "ag_tag = ag_tag_20210101.withColumn(\"VALID_END_DTTM\",lit(\"9999-12-31\").cast(TimestampType())).sort(col(\"SAS_ID\"),col(\"TAG_ID\"),col(\"VALID_FROM_DTTM\"))\n",
        "ag_tag.show()"
      ],
      "execution_count": 11,
      "outputs": [
        {
          "output_type": "stream",
          "text": [
            "+------+------+---+---------+-------------------+-------------------+\n",
            "|TAG_ID|SAS_ID|NUM|NUM_SCORE|    VALID_FROM_DTTM|     VALID_END_DTTM|\n",
            "+------+------+---+---------+-------------------+-------------------+\n",
            "|   100|  A111|  1|      NaN|2021-01-01 00:00:00|9999-12-31 00:00:00|\n",
            "|   200|  A111|  3|      NaN|2021-01-01 00:00:00|9999-12-31 00:00:00|\n",
            "|   100|  B222|  3|      NaN|2021-01-01 00:00:00|9999-12-31 00:00:00|\n",
            "|   200|  C333|  2|      NaN|2021-01-01 00:00:00|9999-12-31 00:00:00|\n",
            "|   300|  D444|  1|      NaN|2021-01-01 00:00:00|9999-12-31 00:00:00|\n",
            "+------+------+---+---------+-------------------+-------------------+\n",
            "\n"
          ],
          "name": "stdout"
        }
      ]
    },
    {
      "cell_type": "code",
      "metadata": {
        "colab": {
          "base_uri": "https://localhost:8080/"
        },
        "id": "jBgJglxtVytG",
        "outputId": "53abffc9-c86e-4380-ccf6-cfe172031123"
      },
      "source": [
        "print(\"資料筆數：\",ag_tag.count())\n",
        "print(\"去除KEY重複筆數：\",ag_tag.drop_duplicates(subset=['TAG_ID','SAS_ID','VALID_FROM_DTTM']).count())"
      ],
      "execution_count": 12,
      "outputs": [
        {
          "output_type": "stream",
          "text": [
            "資料筆數： 5\n",
            "去除KEY重複筆數： 5\n"
          ],
          "name": "stdout"
        }
      ]
    },
    {
      "cell_type": "markdown",
      "metadata": {
        "id": "noLgK5HcW2ss"
      },
      "source": [
        "## 寫入Hive資料庫"
      ]
    },
    {
      "cell_type": "code",
      "metadata": {
        "id": "bEO_MkOnW5oA"
      },
      "source": [
        "# ag_tag.write.mode('overwrite').saveAsTable(\"cxl_user_9h000.ag_tag\")"
      ],
      "execution_count": 13,
      "outputs": []
    },
    {
      "cell_type": "markdown",
      "metadata": {
        "id": "ZGjhUADwVehm"
      },
      "source": [
        "# Incremental load 資料更新歷程製作\n",
        "- 讀取新資料表\n",
        "- 抓取更新資料的最新日期，後面會用到"
      ]
    },
    {
      "cell_type": "code",
      "metadata": {
        "colab": {
          "base_uri": "https://localhost:8080/"
        },
        "id": "7IEjAMhnm_-o",
        "outputId": "058d43dd-be27-4258-f3e4-2c5d0b594b39"
      },
      "source": [
        "# ag_tag_n = spark.sql('''select * from cxl_user_9h000.ag_tag_20210107''')\n",
        "ag_tag_n = ag_tag_20210107\n",
        "etl_date = ag_tag_n.selectExpr(\"max(VALID_FROM_DTTM)\").collect()[0][0]\n",
        "print(\"資料更新時間:\",etl_date)"
      ],
      "execution_count": 14,
      "outputs": [
        {
          "output_type": "stream",
          "text": [
            "資料更新時間: 2021-01-07 00:00:00\n"
          ],
          "name": "stdout"
        }
      ]
    },
    {
      "cell_type": "markdown",
      "metadata": {
        "id": "IimdAFWiWmF_"
      },
      "source": [
        "## 合併表個排序\n",
        "- 讀取原資料表\n",
        "- 新資料表迄日壓9999-12-31\n",
        "- 合併兩張表並排序"
      ]
    },
    {
      "cell_type": "code",
      "metadata": {
        "id": "bjCnTdJKize5",
        "colab": {
          "base_uri": "https://localhost:8080/"
        },
        "outputId": "fc33a62d-cd7b-4c88-848b-3b5db46dc0b7"
      },
      "source": [
        "# ag_tag = spark.sql('''select * from cxl_user_9h000.ag_tag''')\n",
        "ag_tag.show()\n",
        "ag_tag_n.show()"
      ],
      "execution_count": 15,
      "outputs": [
        {
          "output_type": "stream",
          "text": [
            "+------+------+---+---------+-------------------+-------------------+\n",
            "|TAG_ID|SAS_ID|NUM|NUM_SCORE|    VALID_FROM_DTTM|     VALID_END_DTTM|\n",
            "+------+------+---+---------+-------------------+-------------------+\n",
            "|   100|  A111|  1|      NaN|2021-01-01 00:00:00|9999-12-31 00:00:00|\n",
            "|   200|  A111|  3|      NaN|2021-01-01 00:00:00|9999-12-31 00:00:00|\n",
            "|   100|  B222|  3|      NaN|2021-01-01 00:00:00|9999-12-31 00:00:00|\n",
            "|   200|  C333|  2|      NaN|2021-01-01 00:00:00|9999-12-31 00:00:00|\n",
            "|   300|  D444|  1|      NaN|2021-01-01 00:00:00|9999-12-31 00:00:00|\n",
            "+------+------+---+---------+-------------------+-------------------+\n",
            "\n",
            "+------+------+---+---------+-------------------+\n",
            "|TAG_ID|SAS_ID|NUM|NUM_SCORE|    VALID_FROM_DTTM|\n",
            "+------+------+---+---------+-------------------+\n",
            "|   100|  A111|  1|      NaN|2021-01-07 00:00:00|\n",
            "|   100|  B222|  3|      NaN|2021-01-07 00:00:00|\n",
            "|   200|  B222|  3|      NaN|2021-01-07 00:00:00|\n",
            "|   200|  C333|  2|      NaN|2021-01-07 00:00:00|\n",
            "|   100|  D444|  1|      NaN|2021-01-07 00:00:00|\n",
            "|   300|  D444|  3|      NaN|2021-01-07 00:00:00|\n",
            "+------+------+---+---------+-------------------+\n",
            "\n"
          ],
          "name": "stdout"
        }
      ]
    },
    {
      "cell_type": "code",
      "metadata": {
        "id": "_fbGGtqOZFG5"
      },
      "source": [
        "from pyspark.sql.functions import desc, asc, lag, when, lead"
      ],
      "execution_count": 16,
      "outputs": []
    },
    {
      "cell_type": "markdown",
      "metadata": {
        "id": "RbfzZa-h9X9A"
      },
      "source": [
        "- 新建DIFF_FLG作為邏輯判斷欄位\n",
        "- 新表全壓I代表新增insert\n",
        "- 舊表全壓UD代表可能會被刪除update2delete"
      ]
    },
    {
      "cell_type": "code",
      "metadata": {
        "id": "iDq8R2L9Tl61"
      },
      "source": [
        "ag_tag_n = ag_tag_n.withColumn(\"VALID_END_DTTM\",lit(\"9999-12-31\").cast(TimestampType())).withColumn(\"DIFF_FLG\",lit(\"I\"))\n",
        "ag_tag_tmp = ag_tag.withColumn(\"DIFF_FLG\",lit(\"UD\")).union(ag_tag_n).sort(asc(\"SAS_ID\"),asc(\"TAG_ID\"),asc(\"VALID_FROM_DTTM\"))"
      ],
      "execution_count": 17,
      "outputs": []
    },
    {
      "cell_type": "code",
      "metadata": {
        "colab": {
          "base_uri": "https://localhost:8080/"
        },
        "id": "nI-RHpPvTl9X",
        "outputId": "5048f243-f0ee-464d-9767-c46567e4d9d2"
      },
      "source": [
        "ag_tag_tmp.show()"
      ],
      "execution_count": 18,
      "outputs": [
        {
          "output_type": "stream",
          "text": [
            "+------+------+---+---------+-------------------+-------------------+--------+\n",
            "|TAG_ID|SAS_ID|NUM|NUM_SCORE|    VALID_FROM_DTTM|     VALID_END_DTTM|DIFF_FLG|\n",
            "+------+------+---+---------+-------------------+-------------------+--------+\n",
            "|   100|  A111|  1|      NaN|2021-01-01 00:00:00|9999-12-31 00:00:00|      UD|\n",
            "|   100|  A111|  1|      NaN|2021-01-07 00:00:00|9999-12-31 00:00:00|       I|\n",
            "|   200|  A111|  3|      NaN|2021-01-01 00:00:00|9999-12-31 00:00:00|      UD|\n",
            "|   100|  B222|  3|      NaN|2021-01-01 00:00:00|9999-12-31 00:00:00|      UD|\n",
            "|   100|  B222|  3|      NaN|2021-01-07 00:00:00|9999-12-31 00:00:00|       I|\n",
            "|   200|  B222|  3|      NaN|2021-01-07 00:00:00|9999-12-31 00:00:00|       I|\n",
            "|   200|  C333|  2|      NaN|2021-01-01 00:00:00|9999-12-31 00:00:00|      UD|\n",
            "|   200|  C333|  2|      NaN|2021-01-07 00:00:00|9999-12-31 00:00:00|       I|\n",
            "|   100|  D444|  1|      NaN|2021-01-07 00:00:00|9999-12-31 00:00:00|       I|\n",
            "|   300|  D444|  1|      NaN|2021-01-01 00:00:00|9999-12-31 00:00:00|      UD|\n",
            "|   300|  D444|  3|      NaN|2021-01-07 00:00:00|9999-12-31 00:00:00|       I|\n",
            "+------+------+---+---------+-------------------+-------------------+--------+\n",
            "\n"
          ],
          "name": "stdout"
        }
      ]
    },
    {
      "cell_type": "markdown",
      "metadata": {
        "id": "fMwWwMhg9kbs"
      },
      "source": [
        "## 建立資料更新標示\n",
        "- 建立ID的partition並根據標籤及起日排序\n",
        "- 每筆資料與後一筆相比，若標籤一樣、內容一樣，FLG標示0，代表不變保留\n",
        "- 每筆資料與後一筆相比，若標籤一樣、內容不一樣，FLG標示U，代表更新update"
      ]
    },
    {
      "cell_type": "code",
      "metadata": {
        "id": "GhQTyrPChSZI"
      },
      "source": [
        "from pyspark.sql.window import Window\n",
        "w = Window.partitionBy(\"SAS_ID\").orderBy([\"TAG_ID\",\"VALID_FROM_DTTM\"])"
      ],
      "execution_count": 21,
      "outputs": []
    },
    {
      "cell_type": "code",
      "metadata": {
        "colab": {
          "base_uri": "https://localhost:8080/"
        },
        "id": "UhuRVYOP4Hn2",
        "outputId": "9bbd1272-cf06-494e-dfd7-eb27fc9f39dd"
      },
      "source": [
        "ag_tag_tmp = ag_tag_tmp.withColumn(\"DIFF_FLG\",when(\n",
        "    (col(\"TAG_ID\")==lead(\"TAG_ID\",1).over(w)) & (col(\"NUM\")==lead(\"NUM\",1).over(w)) & (col(\"NUM_SCORE\")==lead(\"NUM_SCORE\",1).over(w)),\"0\"\n",
        "    ).when(\n",
        "    (col(\"TAG_ID\")==lead(\"TAG_ID\",1).over(w)) & ((col(\"NUM\")!=lead(\"NUM\",1).over(w)) | (col(\"NUM_SCORE\")!=lead(\"NUM_SCORE\",1).over(w))),\"U\"\n",
        "    ).otherwise(col(\"DIFF_FLG\")))\n",
        "ag_tag_tmp.show()"
      ],
      "execution_count": 22,
      "outputs": [
        {
          "output_type": "stream",
          "text": [
            "+------+------+---+---------+-------------------+-------------------+--------+\n",
            "|TAG_ID|SAS_ID|NUM|NUM_SCORE|    VALID_FROM_DTTM|     VALID_END_DTTM|DIFF_FLG|\n",
            "+------+------+---+---------+-------------------+-------------------+--------+\n",
            "|   100|  B222|  3|      NaN|2021-01-01 00:00:00|9999-12-31 00:00:00|       0|\n",
            "|   100|  B222|  3|      NaN|2021-01-07 00:00:00|9999-12-31 00:00:00|       I|\n",
            "|   200|  B222|  3|      NaN|2021-01-07 00:00:00|9999-12-31 00:00:00|       I|\n",
            "|   200|  C333|  2|      NaN|2021-01-01 00:00:00|9999-12-31 00:00:00|       0|\n",
            "|   200|  C333|  2|      NaN|2021-01-07 00:00:00|9999-12-31 00:00:00|       I|\n",
            "|   100|  A111|  1|      NaN|2021-01-01 00:00:00|9999-12-31 00:00:00|       0|\n",
            "|   100|  A111|  1|      NaN|2021-01-07 00:00:00|9999-12-31 00:00:00|       I|\n",
            "|   200|  A111|  3|      NaN|2021-01-01 00:00:00|9999-12-31 00:00:00|      UD|\n",
            "|   100|  D444|  1|      NaN|2021-01-07 00:00:00|9999-12-31 00:00:00|       I|\n",
            "|   300|  D444|  1|      NaN|2021-01-01 00:00:00|9999-12-31 00:00:00|       U|\n",
            "|   300|  D444|  3|      NaN|2021-01-07 00:00:00|9999-12-31 00:00:00|       I|\n",
            "+------+------+---+---------+-------------------+-------------------+--------+\n",
            "\n"
          ],
          "name": "stdout"
        }
      ]
    },
    {
      "cell_type": "markdown",
      "metadata": {
        "id": "jl519iYW_nM_"
      },
      "source": [
        "- B222有兩個100標籤，起日不一樣，要刪除重複的新資料\n",
        "- 每筆資料與前一筆相比，前筆FLG標示為0，則該筆資料為舊資料，重新標示D，代表delete"
      ]
    },
    {
      "cell_type": "code",
      "metadata": {
        "colab": {
          "base_uri": "https://localhost:8080/"
        },
        "id": "Qd-dZuTz4Hp2",
        "outputId": "22fac772-9d2f-4ee5-9a8f-06d013f74fd1"
      },
      "source": [
        "ag_tag_tmp = ag_tag_tmp.withColumn(\"DIFF_FLG\",when(lag(\"DIFF_FLG\",1).over(w)==\"0\",\"D\").otherwise(col(\"DIFF_FLG\")))\n",
        "ag_tag_tmp.show()"
      ],
      "execution_count": 23,
      "outputs": [
        {
          "output_type": "stream",
          "text": [
            "+------+------+---+---------+-------------------+-------------------+--------+\n",
            "|TAG_ID|SAS_ID|NUM|NUM_SCORE|    VALID_FROM_DTTM|     VALID_END_DTTM|DIFF_FLG|\n",
            "+------+------+---+---------+-------------------+-------------------+--------+\n",
            "|   100|  B222|  3|      NaN|2021-01-01 00:00:00|9999-12-31 00:00:00|       0|\n",
            "|   100|  B222|  3|      NaN|2021-01-07 00:00:00|9999-12-31 00:00:00|       D|\n",
            "|   200|  B222|  3|      NaN|2021-01-07 00:00:00|9999-12-31 00:00:00|       I|\n",
            "|   200|  C333|  2|      NaN|2021-01-01 00:00:00|9999-12-31 00:00:00|       0|\n",
            "|   200|  C333|  2|      NaN|2021-01-07 00:00:00|9999-12-31 00:00:00|       D|\n",
            "|   100|  A111|  1|      NaN|2021-01-01 00:00:00|9999-12-31 00:00:00|       0|\n",
            "|   100|  A111|  1|      NaN|2021-01-07 00:00:00|9999-12-31 00:00:00|       D|\n",
            "|   200|  A111|  3|      NaN|2021-01-01 00:00:00|9999-12-31 00:00:00|      UD|\n",
            "|   100|  D444|  1|      NaN|2021-01-07 00:00:00|9999-12-31 00:00:00|       I|\n",
            "|   300|  D444|  1|      NaN|2021-01-01 00:00:00|9999-12-31 00:00:00|       U|\n",
            "|   300|  D444|  3|      NaN|2021-01-07 00:00:00|9999-12-31 00:00:00|       I|\n",
            "+------+------+---+---------+-------------------+-------------------+--------+\n",
            "\n"
          ],
          "name": "stdout"
        }
      ]
    },
    {
      "cell_type": "markdown",
      "metadata": {
        "id": "4Z5kL1SVE-HA"
      },
      "source": [
        "## 壓資料更新迄日\n",
        "- 更新的資料(FLG=U)與後一筆資料相比，壓後一筆資料起日的前一天\n",
        "- 刪除的資料(FLG=UD)壓今天的更新日期"
      ]
    },
    {
      "cell_type": "code",
      "metadata": {
        "colab": {
          "base_uri": "https://localhost:8080/"
        },
        "id": "kk-02gfpE1Cw",
        "outputId": "1b852306-c193-4eed-90f7-d13351beaa53"
      },
      "source": [
        "ag_tag_tmp = ag_tag_tmp.withColumn(\"VALID_END_DTTM\",when(col(\"DIFF_FLG\")==\"U\",(lead(\"VALID_FROM_DTTM\",1).over(w))-expr(\"INTERVAL 1 seconds\")).otherwise(col(\"VALID_END_DTTM\")))\n",
        "ag_tag_tmp.show()"
      ],
      "execution_count": 24,
      "outputs": [
        {
          "output_type": "stream",
          "text": [
            "+------+------+---+---------+-------------------+-------------------+--------+\n",
            "|TAG_ID|SAS_ID|NUM|NUM_SCORE|    VALID_FROM_DTTM|     VALID_END_DTTM|DIFF_FLG|\n",
            "+------+------+---+---------+-------------------+-------------------+--------+\n",
            "|   100|  B222|  3|      NaN|2021-01-01 00:00:00|9999-12-31 00:00:00|       0|\n",
            "|   100|  B222|  3|      NaN|2021-01-07 00:00:00|9999-12-31 00:00:00|       D|\n",
            "|   200|  B222|  3|      NaN|2021-01-07 00:00:00|9999-12-31 00:00:00|       I|\n",
            "|   200|  C333|  2|      NaN|2021-01-01 00:00:00|9999-12-31 00:00:00|       0|\n",
            "|   200|  C333|  2|      NaN|2021-01-07 00:00:00|9999-12-31 00:00:00|       D|\n",
            "|   100|  A111|  1|      NaN|2021-01-01 00:00:00|9999-12-31 00:00:00|       0|\n",
            "|   100|  A111|  1|      NaN|2021-01-07 00:00:00|9999-12-31 00:00:00|       D|\n",
            "|   200|  A111|  3|      NaN|2021-01-01 00:00:00|9999-12-31 00:00:00|      UD|\n",
            "|   100|  D444|  1|      NaN|2021-01-07 00:00:00|9999-12-31 00:00:00|       I|\n",
            "|   300|  D444|  1|      NaN|2021-01-01 00:00:00|2021-01-06 23:59:59|       U|\n",
            "|   300|  D444|  3|      NaN|2021-01-07 00:00:00|9999-12-31 00:00:00|       I|\n",
            "+------+------+---+---------+-------------------+-------------------+--------+\n",
            "\n"
          ],
          "name": "stdout"
        }
      ]
    },
    {
      "cell_type": "code",
      "metadata": {
        "colab": {
          "base_uri": "https://localhost:8080/"
        },
        "id": "Uy3neRpfmVnS",
        "outputId": "33eeff8a-3fb7-49d0-b11a-124e93dd6098"
      },
      "source": [
        "ag_tag_tmp = ag_tag_tmp.withColumn(\"VALID_END_DTTM\",when(col(\"DIFF_FLG\")==\"UD\",etl_date-expr(\"INTERVAL 1 seconds\")).otherwise(col(\"VALID_END_DTTM\")))\n",
        "ag_tag_tmp.show()"
      ],
      "execution_count": 25,
      "outputs": [
        {
          "output_type": "stream",
          "text": [
            "+------+------+---+---------+-------------------+-------------------+--------+\n",
            "|TAG_ID|SAS_ID|NUM|NUM_SCORE|    VALID_FROM_DTTM|     VALID_END_DTTM|DIFF_FLG|\n",
            "+------+------+---+---------+-------------------+-------------------+--------+\n",
            "|   100|  B222|  3|      NaN|2021-01-01 00:00:00|9999-12-31 00:00:00|       0|\n",
            "|   100|  B222|  3|      NaN|2021-01-07 00:00:00|9999-12-31 00:00:00|       D|\n",
            "|   200|  B222|  3|      NaN|2021-01-07 00:00:00|9999-12-31 00:00:00|       I|\n",
            "|   200|  C333|  2|      NaN|2021-01-01 00:00:00|9999-12-31 00:00:00|       0|\n",
            "|   200|  C333|  2|      NaN|2021-01-07 00:00:00|9999-12-31 00:00:00|       D|\n",
            "|   100|  A111|  1|      NaN|2021-01-01 00:00:00|9999-12-31 00:00:00|       0|\n",
            "|   100|  A111|  1|      NaN|2021-01-07 00:00:00|9999-12-31 00:00:00|       D|\n",
            "|   200|  A111|  3|      NaN|2021-01-01 00:00:00|2021-01-06 23:59:59|      UD|\n",
            "|   100|  D444|  1|      NaN|2021-01-07 00:00:00|9999-12-31 00:00:00|       I|\n",
            "|   300|  D444|  1|      NaN|2021-01-01 00:00:00|2021-01-06 23:59:59|       U|\n",
            "|   300|  D444|  3|      NaN|2021-01-07 00:00:00|9999-12-31 00:00:00|       I|\n",
            "+------+------+---+---------+-------------------+-------------------+--------+\n",
            "\n"
          ],
          "name": "stdout"
        }
      ]
    },
    {
      "cell_type": "markdown",
      "metadata": {
        "id": "p4LPW4CcoN4q"
      },
      "source": [
        "## 產出結果並寫入Hive"
      ]
    },
    {
      "cell_type": "code",
      "metadata": {
        "colab": {
          "base_uri": "https://localhost:8080/"
        },
        "id": "KcqcWlIwF-U6",
        "outputId": "d2f1c5c8-690a-4caa-f661-60582283514c"
      },
      "source": [
        "ag_tag_tmp.filter(ag_tag_tmp.DIFF_FLG != \"D\").sort([\"SAS_ID\",\"TAG_ID\",\"VALID_FROM_DTTM\"]).show()"
      ],
      "execution_count": 26,
      "outputs": [
        {
          "output_type": "stream",
          "text": [
            "+------+------+---+---------+-------------------+-------------------+--------+\n",
            "|TAG_ID|SAS_ID|NUM|NUM_SCORE|    VALID_FROM_DTTM|     VALID_END_DTTM|DIFF_FLG|\n",
            "+------+------+---+---------+-------------------+-------------------+--------+\n",
            "|   100|  A111|  1|      NaN|2021-01-01 00:00:00|9999-12-31 00:00:00|       0|\n",
            "|   200|  A111|  3|      NaN|2021-01-01 00:00:00|2021-01-06 23:59:59|      UD|\n",
            "|   100|  B222|  3|      NaN|2021-01-01 00:00:00|9999-12-31 00:00:00|       0|\n",
            "|   200|  B222|  3|      NaN|2021-01-07 00:00:00|9999-12-31 00:00:00|       I|\n",
            "|   200|  C333|  2|      NaN|2021-01-01 00:00:00|9999-12-31 00:00:00|       0|\n",
            "|   100|  D444|  1|      NaN|2021-01-07 00:00:00|9999-12-31 00:00:00|       I|\n",
            "|   300|  D444|  1|      NaN|2021-01-01 00:00:00|2021-01-06 23:59:59|       U|\n",
            "|   300|  D444|  3|      NaN|2021-01-07 00:00:00|9999-12-31 00:00:00|       I|\n",
            "+------+------+---+---------+-------------------+-------------------+--------+\n",
            "\n"
          ],
          "name": "stdout"
        }
      ]
    },
    {
      "cell_type": "code",
      "metadata": {
        "id": "TPkgSMDNF-Xb"
      },
      "source": [
        "# ag_tag_tmp.write.mode('overwrite').saveAsTable(\"cxl_user_9h000.ag_tag_n\")"
      ],
      "execution_count": null,
      "outputs": []
    },
    {
      "cell_type": "code",
      "metadata": {
        "id": "mXfh9pEIF-Zp"
      },
      "source": [
        ""
      ],
      "execution_count": null,
      "outputs": []
    },
    {
      "cell_type": "code",
      "metadata": {
        "id": "SHUw_3mFBzXl"
      },
      "source": [
        ""
      ],
      "execution_count": 287,
      "outputs": []
    },
    {
      "cell_type": "code",
      "metadata": {
        "id": "8dZg9n8ZBzZ-"
      },
      "source": [
        ""
      ],
      "execution_count": null,
      "outputs": []
    },
    {
      "cell_type": "code",
      "metadata": {
        "id": "iGEouGsaBzci"
      },
      "source": [
        ""
      ],
      "execution_count": null,
      "outputs": []
    },
    {
      "cell_type": "code",
      "metadata": {
        "id": "ZE0rdJrnBze1"
      },
      "source": [
        ""
      ],
      "execution_count": null,
      "outputs": []
    },
    {
      "cell_type": "code",
      "metadata": {
        "id": "bEIgKLp1BzhP"
      },
      "source": [
        ""
      ],
      "execution_count": null,
      "outputs": []
    },
    {
      "cell_type": "code",
      "metadata": {
        "id": "7XQ189sTBzjQ"
      },
      "source": [
        ""
      ],
      "execution_count": null,
      "outputs": []
    },
    {
      "cell_type": "code",
      "metadata": {
        "id": "gx26IprBBzlf"
      },
      "source": [
        ""
      ],
      "execution_count": null,
      "outputs": []
    },
    {
      "cell_type": "code",
      "metadata": {
        "id": "ookS0Cz_BzoD"
      },
      "source": [
        ""
      ],
      "execution_count": null,
      "outputs": []
    },
    {
      "cell_type": "code",
      "metadata": {
        "id": "6UxosBjv4HsB"
      },
      "source": [
        ""
      ],
      "execution_count": null,
      "outputs": []
    },
    {
      "cell_type": "code",
      "metadata": {
        "id": "o9Sr-4wZ1x4Q"
      },
      "source": [
        ""
      ],
      "execution_count": 287,
      "outputs": []
    },
    {
      "cell_type": "code",
      "metadata": {
        "id": "ad2y06jTnt-v"
      },
      "source": [
        ""
      ],
      "execution_count": 287,
      "outputs": []
    },
    {
      "cell_type": "code",
      "metadata": {
        "id": "X9cWXkyCf6RE"
      },
      "source": [
        ""
      ],
      "execution_count": null,
      "outputs": []
    },
    {
      "cell_type": "code",
      "metadata": {
        "id": "bwsDp3EZf6Ta"
      },
      "source": [
        ""
      ],
      "execution_count": null,
      "outputs": []
    },
    {
      "cell_type": "code",
      "metadata": {
        "id": "MirvIaocf6Vq"
      },
      "source": [
        ""
      ],
      "execution_count": null,
      "outputs": []
    },
    {
      "cell_type": "code",
      "metadata": {
        "id": "Ey8Cu__Yf6Xv"
      },
      "source": [
        ""
      ],
      "execution_count": null,
      "outputs": []
    },
    {
      "cell_type": "code",
      "metadata": {
        "id": "u-beLi52f4z8"
      },
      "source": [
        ""
      ],
      "execution_count": null,
      "outputs": []
    }
  ]
}